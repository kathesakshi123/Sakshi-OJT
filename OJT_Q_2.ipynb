{
  "nbformat": 4,
  "nbformat_minor": 0,
  "metadata": {
    "colab": {
      "provenance": []
    },
    "kernelspec": {
      "name": "python3",
      "display_name": "Python 3"
    },
    "language_info": {
      "name": "python"
    }
  },
  "cells": [
    {
      "cell_type": "code",
      "execution_count": null,
      "metadata": {
        "id": "2RIYbSNUFFPF"
      },
      "outputs": [],
      "source": [
        "# Q.2. Row Echelon Form"
      ]
    },
    {
      "cell_type": "code",
      "source": [],
      "metadata": {
        "id": "4pgPr2h_WhF7"
      },
      "execution_count": null,
      "outputs": []
    },
    {
      "cell_type": "code",
      "source": [
        "import numpy as np"
      ],
      "metadata": {
        "id": "-WI28DRbFQag"
      },
      "execution_count": null,
      "outputs": []
    },
    {
      "cell_type": "code",
      "source": [
        "import sympy as sp"
      ],
      "metadata": {
        "id": "iiA0mZYhFbUH"
      },
      "execution_count": null,
      "outputs": []
    },
    {
      "cell_type": "code",
      "source": [
        "np.random.seed(64)\n",
        "A=np.random.randint(0,10,(5,5))\n",
        "print(A)"
      ],
      "metadata": {
        "colab": {
          "base_uri": "https://localhost:8080/"
        },
        "id": "-LuqDKOoFkGo",
        "outputId": "e1aea684-3112-43dc-b561-5541f0bdd2d7"
      },
      "execution_count": null,
      "outputs": [
        {
          "output_type": "stream",
          "name": "stdout",
          "text": [
            "[[4 6 7 6 6]\n",
            " [1 4 3 5 0]\n",
            " [8 6 8 2 0]\n",
            " [1 4 2 6 4]\n",
            " [5 0 5 9 6]]\n"
          ]
        }
      ]
    },
    {
      "cell_type": "code",
      "source": [
        "A[0]=1/4*A[0]\n",
        "A"
      ],
      "metadata": {
        "colab": {
          "base_uri": "https://localhost:8080/"
        },
        "id": "CVuIeRlgJaYB",
        "outputId": "c33b1714-8871-4b65-cfeb-54aea8f9f541"
      },
      "execution_count": null,
      "outputs": [
        {
          "output_type": "execute_result",
          "data": {
            "text/plain": [
              "array([[1, 1, 1, 1, 1],\n",
              "       [1, 4, 3, 5, 0],\n",
              "       [8, 6, 8, 2, 0],\n",
              "       [1, 4, 2, 6, 4],\n",
              "       [5, 0, 5, 9, 6]])"
            ]
          },
          "metadata": {},
          "execution_count": 163
        }
      ]
    },
    {
      "cell_type": "code",
      "source": [
        "A[1]= A[1] - A[0]\n",
        "A"
      ],
      "metadata": {
        "colab": {
          "base_uri": "https://localhost:8080/"
        },
        "id": "bnlUXx_2IUZc",
        "outputId": "1b0ff80c-20f8-4b7b-bb04-7ab88cdaa23e"
      },
      "execution_count": null,
      "outputs": [
        {
          "output_type": "execute_result",
          "data": {
            "text/plain": [
              "array([[ 1,  1,  1,  1,  1],\n",
              "       [ 0,  3,  2,  4, -1],\n",
              "       [ 8,  6,  8,  2,  0],\n",
              "       [ 1,  4,  2,  6,  4],\n",
              "       [ 5,  0,  5,  9,  6]])"
            ]
          },
          "metadata": {},
          "execution_count": 164
        }
      ]
    },
    {
      "cell_type": "code",
      "source": [
        "A[2]=A[2] - 8*A[0]\n",
        "A"
      ],
      "metadata": {
        "colab": {
          "base_uri": "https://localhost:8080/"
        },
        "id": "NEbWXCRVmj70",
        "outputId": "99207406-9a55-43f6-db2b-3d7f24e88867"
      },
      "execution_count": null,
      "outputs": [
        {
          "output_type": "execute_result",
          "data": {
            "text/plain": [
              "array([[ 1,  1,  1,  1,  1],\n",
              "       [ 0,  3,  2,  4, -1],\n",
              "       [ 0, -2,  0, -6, -8],\n",
              "       [ 1,  4,  2,  6,  4],\n",
              "       [ 5,  0,  5,  9,  6]])"
            ]
          },
          "metadata": {},
          "execution_count": 165
        }
      ]
    },
    {
      "cell_type": "code",
      "source": [
        "A[3]=A[3] - A[0]\n",
        "A"
      ],
      "metadata": {
        "colab": {
          "base_uri": "https://localhost:8080/"
        },
        "id": "Q6v1oHh3oGLV",
        "outputId": "45270ee9-c32a-4ba4-97df-b52a8ede3ad3"
      },
      "execution_count": null,
      "outputs": [
        {
          "output_type": "execute_result",
          "data": {
            "text/plain": [
              "array([[ 1,  1,  1,  1,  1],\n",
              "       [ 0,  3,  2,  4, -1],\n",
              "       [ 0, -2,  0, -6, -8],\n",
              "       [ 0,  3,  1,  5,  3],\n",
              "       [ 5,  0,  5,  9,  6]])"
            ]
          },
          "metadata": {},
          "execution_count": 166
        }
      ]
    },
    {
      "cell_type": "code",
      "source": [
        "A[4]=A[4] - 5*A[0]\n",
        "A"
      ],
      "metadata": {
        "colab": {
          "base_uri": "https://localhost:8080/"
        },
        "id": "puOH4PJ4oN80",
        "outputId": "bcb1745a-d767-4ac1-f737-0c151f7159fb"
      },
      "execution_count": null,
      "outputs": [
        {
          "output_type": "execute_result",
          "data": {
            "text/plain": [
              "array([[ 1,  1,  1,  1,  1],\n",
              "       [ 0,  3,  2,  4, -1],\n",
              "       [ 0, -2,  0, -6, -8],\n",
              "       [ 0,  3,  1,  5,  3],\n",
              "       [ 0, -5,  0,  4,  1]])"
            ]
          },
          "metadata": {},
          "execution_count": 167
        }
      ]
    },
    {
      "cell_type": "code",
      "source": [
        "A[1]= 1/3*A[1]\n",
        "A"
      ],
      "metadata": {
        "id": "NEU98XuXotA3",
        "colab": {
          "base_uri": "https://localhost:8080/"
        },
        "outputId": "77e28d29-5640-44a1-b97c-1c385690cc7b"
      },
      "execution_count": null,
      "outputs": [
        {
          "output_type": "execute_result",
          "data": {
            "text/plain": [
              "array([[ 1,  1,  1,  1,  1],\n",
              "       [ 0,  1,  0,  1,  0],\n",
              "       [ 0, -2,  0, -6, -8],\n",
              "       [ 0,  3,  1,  5,  3],\n",
              "       [ 0, -5,  0,  4,  1]])"
            ]
          },
          "metadata": {},
          "execution_count": 168
        }
      ]
    },
    {
      "cell_type": "code",
      "source": [
        "A[2]=A[2]+2*A[1]\n",
        "A"
      ],
      "metadata": {
        "colab": {
          "base_uri": "https://localhost:8080/"
        },
        "id": "bp1qULNl-mTs",
        "outputId": "ad84f993-cabf-4f2e-b680-da214b788681"
      },
      "execution_count": null,
      "outputs": [
        {
          "output_type": "execute_result",
          "data": {
            "text/plain": [
              "array([[ 1,  1,  1,  1,  1],\n",
              "       [ 0,  1,  0,  1,  0],\n",
              "       [ 0,  0,  0, -4, -8],\n",
              "       [ 0,  3,  1,  5,  3],\n",
              "       [ 0, -5,  0,  4,  1]])"
            ]
          },
          "metadata": {},
          "execution_count": 169
        }
      ]
    },
    {
      "cell_type": "code",
      "source": [
        "A[3]=A[3]-3*A[1]\n",
        "A"
      ],
      "metadata": {
        "colab": {
          "base_uri": "https://localhost:8080/"
        },
        "id": "XSmQKh_T_WIB",
        "outputId": "a522b7d2-e806-482f-c6a9-5ac5130151d1"
      },
      "execution_count": null,
      "outputs": [
        {
          "output_type": "execute_result",
          "data": {
            "text/plain": [
              "array([[ 1,  1,  1,  1,  1],\n",
              "       [ 0,  1,  0,  1,  0],\n",
              "       [ 0,  0,  0, -4, -8],\n",
              "       [ 0,  0,  1,  2,  3],\n",
              "       [ 0, -5,  0,  4,  1]])"
            ]
          },
          "metadata": {},
          "execution_count": 170
        }
      ]
    },
    {
      "cell_type": "code",
      "source": [
        "A[4]=A[4]+5*A[1]\n",
        "A"
      ],
      "metadata": {
        "colab": {
          "base_uri": "https://localhost:8080/"
        },
        "id": "Gb9T4HL1_rA2",
        "outputId": "cba97aa8-27fc-4e31-cccf-2d32e4f7de9a"
      },
      "execution_count": null,
      "outputs": [
        {
          "output_type": "execute_result",
          "data": {
            "text/plain": [
              "array([[ 1,  1,  1,  1,  1],\n",
              "       [ 0,  1,  0,  1,  0],\n",
              "       [ 0,  0,  0, -4, -8],\n",
              "       [ 0,  0,  1,  2,  3],\n",
              "       [ 0,  0,  0,  9,  1]])"
            ]
          },
          "metadata": {},
          "execution_count": 171
        }
      ]
    },
    {
      "cell_type": "code",
      "source": [
        "A[2]=A[2]+A[3]\n",
        "A"
      ],
      "metadata": {
        "colab": {
          "base_uri": "https://localhost:8080/"
        },
        "id": "hZkBh2n1_-e0",
        "outputId": "aa9ae092-a66b-451d-8f2a-d094903c5ffe"
      },
      "execution_count": null,
      "outputs": [
        {
          "output_type": "execute_result",
          "data": {
            "text/plain": [
              "array([[ 1,  1,  1,  1,  1],\n",
              "       [ 0,  1,  0,  1,  0],\n",
              "       [ 0,  0,  1, -2, -5],\n",
              "       [ 0,  0,  1,  2,  3],\n",
              "       [ 0,  0,  0,  9,  1]])"
            ]
          },
          "metadata": {},
          "execution_count": 172
        }
      ]
    },
    {
      "cell_type": "code",
      "source": [
        "A[3]=A[3]-A[2]\n",
        "A"
      ],
      "metadata": {
        "colab": {
          "base_uri": "https://localhost:8080/"
        },
        "id": "5EfeREbUAXBL",
        "outputId": "ca74eb3c-01ca-450a-a2cf-02d442875c02"
      },
      "execution_count": null,
      "outputs": [
        {
          "output_type": "execute_result",
          "data": {
            "text/plain": [
              "array([[ 1,  1,  1,  1,  1],\n",
              "       [ 0,  1,  0,  1,  0],\n",
              "       [ 0,  0,  1, -2, -5],\n",
              "       [ 0,  0,  0,  4,  8],\n",
              "       [ 0,  0,  0,  9,  1]])"
            ]
          },
          "metadata": {},
          "execution_count": 173
        }
      ]
    },
    {
      "cell_type": "code",
      "source": [
        "A[3]=1/4*A[3]\n",
        "A"
      ],
      "metadata": {
        "colab": {
          "base_uri": "https://localhost:8080/"
        },
        "id": "II2NOQDLAf0f",
        "outputId": "01994b2d-d425-410d-81d5-504f7512846b"
      },
      "execution_count": null,
      "outputs": [
        {
          "output_type": "execute_result",
          "data": {
            "text/plain": [
              "array([[ 1,  1,  1,  1,  1],\n",
              "       [ 0,  1,  0,  1,  0],\n",
              "       [ 0,  0,  1, -2, -5],\n",
              "       [ 0,  0,  0,  1,  2],\n",
              "       [ 0,  0,  0,  9,  1]])"
            ]
          },
          "metadata": {},
          "execution_count": 174
        }
      ]
    },
    {
      "cell_type": "code",
      "source": [
        "A[4]=A[4]-9*A[3]\n",
        "A"
      ],
      "metadata": {
        "colab": {
          "base_uri": "https://localhost:8080/"
        },
        "id": "dT-9odCFBU7c",
        "outputId": "375e0415-b3e1-43f9-eb0d-7561a129cbe8"
      },
      "execution_count": null,
      "outputs": [
        {
          "output_type": "execute_result",
          "data": {
            "text/plain": [
              "array([[  1,   1,   1,   1,   1],\n",
              "       [  0,   1,   0,   1,   0],\n",
              "       [  0,   0,   1,  -2,  -5],\n",
              "       [  0,   0,   0,   1,   2],\n",
              "       [  0,   0,   0,   0, -17]])"
            ]
          },
          "metadata": {},
          "execution_count": 175
        }
      ]
    },
    {
      "cell_type": "code",
      "source": [
        "A[4]=1/-17 *A[4]\n",
        "sp.Matrix(A)"
      ],
      "metadata": {
        "colab": {
          "base_uri": "https://localhost:8080/",
          "height": 119
        },
        "id": "VJLqTkIKC2Og",
        "outputId": "524eacf7-389b-49d7-c24e-64db887ac083"
      },
      "execution_count": null,
      "outputs": [
        {
          "output_type": "execute_result",
          "data": {
            "text/plain": [
              "Matrix([\n",
              "[1, 1, 1,  1,  1],\n",
              "[0, 1, 0,  1,  0],\n",
              "[0, 0, 1, -2, -5],\n",
              "[0, 0, 0,  1,  2],\n",
              "[0, 0, 0,  0,  1]])"
            ],
            "text/latex": "$\\displaystyle \\left[\\begin{matrix}1 & 1 & 1 & 1 & 1\\\\0 & 1 & 0 & 1 & 0\\\\0 & 0 & 1 & -2 & -5\\\\0 & 0 & 0 & 1 & 2\\\\0 & 0 & 0 & 0 & 1\\end{matrix}\\right]$"
          },
          "metadata": {},
          "execution_count": 176
        }
      ]
    }
  ]
}