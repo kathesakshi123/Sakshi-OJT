{
  "nbformat": 4,
  "nbformat_minor": 0,
  "metadata": {
    "colab": {
      "provenance": []
    },
    "kernelspec": {
      "name": "python3",
      "display_name": "Python 3"
    },
    "language_info": {
      "name": "python"
    }
  },
  "cells": [
    {
      "cell_type": "code",
      "execution_count": null,
      "metadata": {
        "id": "HlQOKUc1EAFx"
      },
      "outputs": [],
      "source": [
        "Q.3. Single Value  Decomposition"
      ]
    },
    {
      "cell_type": "code",
      "source": [
        "import numpy as np\n",
        "import sympy as sp"
      ],
      "metadata": {
        "id": "amEU2Nm-EztI"
      },
      "execution_count": null,
      "outputs": []
    },
    {
      "cell_type": "code",
      "source": [
        "np.random.seed(64)\n",
        "A=np.random.randint(0,10,(5,5))\n",
        "sp.Matrix(A)"
      ],
      "metadata": {
        "id": "SSH3HkUFEKrV",
        "colab": {
          "base_uri": "https://localhost:8080/",
          "height": 119
        },
        "outputId": "26c2aacb-742f-4ec8-ba2e-e8d9dfc144db"
      },
      "execution_count": null,
      "outputs": [
        {
          "output_type": "execute_result",
          "data": {
            "text/plain": [
              "Matrix([\n",
              "[4, 6, 7, 6, 6],\n",
              "[1, 4, 3, 5, 0],\n",
              "[8, 6, 8, 2, 0],\n",
              "[1, 4, 2, 6, 4],\n",
              "[5, 0, 5, 9, 6]])"
            ],
            "text/latex": "$\\displaystyle \\left[\\begin{matrix}4 & 6 & 7 & 6 & 6\\\\1 & 4 & 3 & 5 & 0\\\\8 & 6 & 8 & 2 & 0\\\\1 & 4 & 2 & 6 & 4\\\\5 & 0 & 5 & 9 & 6\\end{matrix}\\right]$"
          },
          "metadata": {},
          "execution_count": 8
        }
      ]
    },
    {
      "cell_type": "code",
      "source": [
        "A=np.array([[4 ,6 ,7 ,6 ,6],[1 ,4 ,3, 5 ,0],[8 ,6 ,8, 2, 0],[1 ,4 ,2, 6, 4],[5, 0 ,5 ,9 ,6]])\n",
        "sp.Matrix(A)"
      ],
      "metadata": {
        "id": "JeEcWNXjTbpb",
        "colab": {
          "base_uri": "https://localhost:8080/",
          "height": 119
        },
        "outputId": "cc26845d-5a49-42d0-c913-709eccfc2f4d"
      },
      "execution_count": null,
      "outputs": [
        {
          "output_type": "execute_result",
          "data": {
            "text/plain": [
              "Matrix([\n",
              "[4, 6, 7, 6, 6],\n",
              "[1, 4, 3, 5, 0],\n",
              "[8, 6, 8, 2, 0],\n",
              "[1, 4, 2, 6, 4],\n",
              "[5, 0, 5, 9, 6]])"
            ],
            "text/latex": "$\\displaystyle \\left[\\begin{matrix}4 & 6 & 7 & 6 & 6\\\\1 & 4 & 3 & 5 & 0\\\\8 & 6 & 8 & 2 & 0\\\\1 & 4 & 2 & 6 & 4\\\\5 & 0 & 5 & 9 & 6\\end{matrix}\\right]$"
          },
          "metadata": {},
          "execution_count": 36
        }
      ]
    },
    {
      "cell_type": "code",
      "source": [
        "U,S,Vt=np.linalg.svd(A)\n",
        "print(np.round(U))"
      ],
      "metadata": {
        "colab": {
          "base_uri": "https://localhost:8080/"
        },
        "id": "Nt9RCXgnF9r5",
        "outputId": "c223b614-7584-4f53-cde6-72e38ec188ab"
      },
      "execution_count": null,
      "outputs": [
        {
          "output_type": "stream",
          "name": "stdout",
          "text": [
            "[[-1. -0. -0. -1. -0.]\n",
            " [-0.  0. -0.  1. -0.]\n",
            " [-0.  1.  0.  0.  0.]\n",
            " [-0. -0. -0. -0.  1.]\n",
            " [-1. -1.  1.  0. -0.]]\n"
          ]
        }
      ]
    },
    {
      "cell_type": "code",
      "source": [
        "S"
      ],
      "metadata": {
        "colab": {
          "base_uri": "https://localhost:8080/"
        },
        "id": "WNDUTNQQUvx9",
        "outputId": "53525d08-134f-4ea8-8d0b-814cc9720621"
      },
      "execution_count": null,
      "outputs": [
        {
          "output_type": "execute_result",
          "data": {
            "text/plain": [
              "array([22.70792894,  8.82420295,  5.18004242,  3.24254367,  1.06605662])"
            ]
          },
          "metadata": {},
          "execution_count": 37
        }
      ]
    },
    {
      "cell_type": "code",
      "source": [
        "\n",
        "Sigma=np.zeros((A.shape[0],A.shape[1]))\n",
        "sp.Matrix(Sigma)"
      ],
      "metadata": {
        "colab": {
          "base_uri": "https://localhost:8080/",
          "height": 119
        },
        "id": "w2J2DnLyU_Ub",
        "outputId": "6ac36131-80ce-42c5-83cb-42ef8d09dbf8"
      },
      "execution_count": null,
      "outputs": [
        {
          "output_type": "execute_result",
          "data": {
            "text/plain": [
              "Matrix([\n",
              "[0, 0, 0, 0, 0],\n",
              "[0, 0, 0, 0, 0],\n",
              "[0, 0, 0, 0, 0],\n",
              "[0, 0, 0, 0, 0],\n",
              "[0, 0, 0, 0, 0]])"
            ],
            "text/latex": "$\\displaystyle \\left[\\begin{matrix}0 & 0 & 0 & 0 & 0\\\\0 & 0 & 0 & 0 & 0\\\\0 & 0 & 0 & 0 & 0\\\\0 & 0 & 0 & 0 & 0\\\\0 & 0 & 0 & 0 & 0\\end{matrix}\\right]$"
          },
          "metadata": {},
          "execution_count": 38
        }
      ]
    },
    {
      "cell_type": "code",
      "source": [
        "Sigma[:A.shape[1],:A.shape[0]]=np.diag(S)\n",
        "sp.Matrix(Sigma)"
      ],
      "metadata": {
        "colab": {
          "base_uri": "https://localhost:8080/",
          "height": 139
        },
        "id": "mbJ5gybtVHG9",
        "outputId": "a008d410-d913-4477-88ca-694250b4ddac"
      },
      "execution_count": null,
      "outputs": [
        {
          "output_type": "execute_result",
          "data": {
            "text/plain": [
              "Matrix([\n",
              "[22.7079289369021,                0,               0,                0,                0],\n",
              "[               0, 8.82420295475026,               0,                0,                0],\n",
              "[               0,                0, 5.1800424182027,                0,                0],\n",
              "[               0,                0,               0, 3.24254366914427,                0],\n",
              "[               0,                0,               0,                0, 1.06605661636486]])"
            ],
            "text/latex": "$\\displaystyle \\left[\\begin{matrix}22.7079289369021 & 0 & 0 & 0 & 0\\\\0 & 8.82420295475026 & 0 & 0 & 0\\\\0 & 0 & 5.1800424182027 & 0 & 0\\\\0 & 0 & 0 & 3.24254366914427 & 0\\\\0 & 0 & 0 & 0 & 1.06605661636486\\end{matrix}\\right]$"
          },
          "metadata": {},
          "execution_count": 39
        }
      ]
    },
    {
      "cell_type": "code",
      "source": [
        "sp.Matrix(Vt)"
      ],
      "metadata": {
        "colab": {
          "base_uri": "https://localhost:8080/",
          "height": 139
        },
        "id": "9WgYi-n3NKxc",
        "outputId": "71239ad7-6d37-4f22-ab93-37ddba67d697"
      },
      "execution_count": null,
      "outputs": [
        {
          "output_type": "execute_result",
          "data": {
            "text/plain": [
              "Matrix([\n",
              "[-0.407530087397064, -0.383681763606321,  -0.521610458629613, -0.544001237228347, -0.344518091664743],\n",
              "[ 0.385528508751382,  0.386316239537159,   0.344559721891636,  -0.56884751037599, -0.509724082223707],\n",
              "[ 0.589934961273294, -0.776452667355229,   0.165051173805528, -0.112965804269557, 0.0953668386577683],\n",
              "[0.0833951456927645, -0.137812878065761, -0.0841817404730866,  0.605923994643174,  -0.77448202535675],\n",
              "[ 0.574725141218336,   0.28579176570012,  -0.758203582222151, 0.0238747484689506,  0.112122268085391]])"
            ],
            "text/latex": "$\\displaystyle \\left[\\begin{matrix}-0.407530087397064 & -0.383681763606321 & -0.521610458629613 & -0.544001237228347 & -0.344518091664743\\\\0.385528508751382 & 0.386316239537159 & 0.344559721891636 & -0.56884751037599 & -0.509724082223707\\\\0.589934961273294 & -0.776452667355229 & 0.165051173805528 & -0.112965804269557 & 0.0953668386577683\\\\0.0833951456927645 & -0.137812878065761 & -0.0841817404730866 & 0.605923994643174 & -0.77448202535675\\\\0.574725141218336 & 0.28579176570012 & -0.758203582222151 & 0.0238747484689506 & 0.112122268085391\\end{matrix}\\right]$"
          },
          "metadata": {},
          "execution_count": 14
        }
      ]
    },
    {
      "cell_type": "code",
      "source": [
        "#Verifiaction of SVD"
      ],
      "metadata": {
        "id": "j7_mgsSaSokT"
      },
      "execution_count": null,
      "outputs": []
    },
    {
      "cell_type": "code",
      "source": [
        "sp.Matrix(np.round(U@Sigma@Vt))"
      ],
      "metadata": {
        "id": "yV_tt8VNTI7v",
        "colab": {
          "base_uri": "https://localhost:8080/",
          "height": 119
        },
        "outputId": "385e5d00-81b5-469b-df47-9f5ce355c9c1"
      },
      "execution_count": null,
      "outputs": [
        {
          "output_type": "execute_result",
          "data": {
            "text/plain": [
              "Matrix([\n",
              "[4.0, 6.0, 7.0, 6.0, 6.0],\n",
              "[1.0, 4.0, 3.0, 5.0,   0],\n",
              "[8.0, 6.0, 8.0, 2.0,   0],\n",
              "[1.0, 4.0, 2.0, 6.0, 4.0],\n",
              "[5.0,   0, 5.0, 9.0, 6.0]])"
            ],
            "text/latex": "$\\displaystyle \\left[\\begin{matrix}4.0 & 6.0 & 7.0 & 6.0 & 6.0\\\\1.0 & 4.0 & 3.0 & 5.0 & 0\\\\8.0 & 6.0 & 8.0 & 2.0 & 0\\\\1.0 & 4.0 & 2.0 & 6.0 & 4.0\\\\5.0 & 0 & 5.0 & 9.0 & 6.0\\end{matrix}\\right]$"
          },
          "metadata": {},
          "execution_count": 42
        }
      ]
    }
  ]
}