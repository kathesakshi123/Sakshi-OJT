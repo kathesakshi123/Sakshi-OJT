{
  "nbformat": 4,
  "nbformat_minor": 0,
  "metadata": {
    "colab": {
      "provenance": []
    },
    "kernelspec": {
      "name": "python3",
      "display_name": "Python 3"
    },
    "language_info": {
      "name": "python"
    }
  },
  "cells": [
    {
      "cell_type": "code",
      "execution_count": 6,
      "metadata": {
        "id": "UXiHtf0ZV8c-"
      },
      "outputs": [],
      "source": [
        "# Q.4.Polynomial Plotting with Annotations"
      ]
    },
    {
      "cell_type": "code",
      "source": [
        "import numpy as np\n",
        "import matplotlib.pyplot as plt\n",
        "\n",
        "np.random.seed(64)\n",
        "\n",
        "coefficients = np.random.uniform(-10, 10, 6)\n",
        "\n",
        "def polynomial(x, coeffs):\n",
        "    return np.polyval(coeffs, x)\n",
        "\n",
        "# Generate x values\n",
        "x_values = np.linspace(-5, 5, 400)\n",
        "\n",
        "given x values\n",
        "y_values = polynomial(x_values, coefficients)\n",
        "\n",
        "\n",
        "plt.figure(figsize=(10, 9))   # Plot the polynomial\n",
        "plt.plot(x_values, y_values, label='Polynomial', color='blue')\n",
        "\n",
        "\n",
        "minima_indices = np.argmin(y_values)   # Find maxima and minima\n",
        "maxima_indices = np.argmax(y_values)\n",
        "\n",
        "# Annotate maxima and minima\n",
        "plt.scatter(x_values[minima_indices], y_values[minima_indices], color='red', label='Minima')\n",
        "plt.scatter(x_values[maxima_indices], y_values[maxima_indices], color='green', label='Maxima')\n",
        "\n",
        "plt.xlabel('x')\n",
        "plt.ylabel('y')\n",
        "plt.title('Plot of Random 5th Degree Polynomial')\n",
        "plt.legend()\n",
        "\n",
        "# Show plot\n",
        "plt.grid(True)\n",
        "plt.show()"
      ],
      "metadata": {
        "colab": {
          "base_uri": "https://localhost:8080/",
          "height": 124
        },
        "id": "M6FFVPFNWnk-",
        "outputId": "f6114bdb-d72f-4b39-ff67-e06bc209ef73"
      },
      "execution_count": null,
      "outputs": [
        {
          "output_type": "error",
          "ename": "SyntaxError",
          "evalue": "invalid syntax (<ipython-input-5-ff65d75c7fcb>, line 14)",
          "traceback": [
            "\u001b[0;36m  File \u001b[0;32m\"<ipython-input-5-ff65d75c7fcb>\"\u001b[0;36m, line \u001b[0;32m14\u001b[0m\n\u001b[0;31m    given x values\u001b[0m\n\u001b[0m          ^\u001b[0m\n\u001b[0;31mSyntaxError\u001b[0m\u001b[0;31m:\u001b[0m invalid syntax\n"
          ]
        }
      ]
    }
  ]
}